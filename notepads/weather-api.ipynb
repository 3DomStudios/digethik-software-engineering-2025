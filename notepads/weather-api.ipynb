{
 "cells": [
  {
   "cell_type": "code",
   "execution_count": null,
   "id": "3f46d8e9",
   "metadata": {},
   "outputs": [
    {
     "ename": "SyntaxError",
     "evalue": "f-string: unmatched '[' (3147466916.py, line 24)",
     "output_type": "error",
     "traceback": [
      "\u001b[1;36m  Cell \u001b[1;32mIn[8], line 24\u001b[1;36m\u001b[0m\n\u001b[1;33m    print(f'longitude: {data['results'][0]['longitude']}')\u001b[0m\n\u001b[1;37m                              ^\u001b[0m\n\u001b[1;31mSyntaxError\u001b[0m\u001b[1;31m:\u001b[0m f-string: unmatched '['\n"
     ]
    }
   ],
   "source": [
    "import requests\n",
    "\n",
    "# Name deines Wohnorts – z.B. Berlin, Hamburg, München\n",
    "ort = \"Berlin\"\n",
    "\n",
    "# API-Endpunkt für die Geocoding-Abfrage\n",
    "url = \"https://geocoding-api.open-meteo.com/v1/search\"\n",
    "\n",
    "# Anfrage mit dem Ortsnamen\n",
    "params = {\n",
    "    \"name\": ort,\n",
    "    \"count\": 1,         # Nur den besten Treffer\n",
    "    \"language\": \"de\",   # Antwort auf Deutsch (optional)\n",
    "    \"format\": \"json\"\n",
    "}\n",
    "\n",
    "# HTTP GET-Anfrage\n",
    "response = requests.get(url, params=params)\n",
    "print(response.status_code)\n",
    "data = response.json()\n",
    "# print(data)\n",
    "\n",
    "\n",
    "latitude = data['results'][0]['latitude']\n",
    "longitude = data['results'][0]['longitude']\n",
    "print(f'latitude: {latitude}')\n",
    "print(f'longitude: {longitude}')"
   ]
  }
 ],
 "metadata": {
  "kernelspec": {
   "display_name": ".dsevenv",
   "language": "python",
   "name": "python3"
  },
  "language_info": {
   "codemirror_mode": {
    "name": "ipython",
    "version": 3
   },
   "file_extension": ".py",
   "mimetype": "text/x-python",
   "name": "python",
   "nbconvert_exporter": "python",
   "pygments_lexer": "ipython3",
   "version": "3.10.9"
  }
 },
 "nbformat": 4,
 "nbformat_minor": 5
}
