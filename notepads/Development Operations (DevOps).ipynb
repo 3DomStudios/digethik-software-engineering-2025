{
 "cells": [
  {
   "cell_type": "markdown",
   "id": "b4f5ba7d",
   "metadata": {},
   "source": [
    "🔄 CI – Continuous Integration (Kontinuierliche Integration)\n",
    "Was ist das?\n",
    "CI bedeutet, dass Entwickler ihren Code mehrmals täglich in ein zentrales Repository integrieren. Jedes Mal, wenn neuer Code hochgeladen wird, wird automatisch:\n",
    "\n",
    "der Code gebaut (build)\n",
    "\n",
    "automatisch getestet (z. B. Unit-Tests, Syntax-Checks)\n",
    "\n",
    "geprüft, ob er sich in das bestehende Projekt korrekt einfügt\n",
    "\n",
    "Warum ist CI wichtig?\n",
    "\n",
    "Fehler werden frühzeitig erkannt\n",
    "\n",
    "Konflikte zwischen Code-Versionen werden reduziert\n",
    "\n",
    "Der Code ist immer in einem funktionsfähigen Zustand\n",
    "\n",
    "🚀 CD – Continuous Delivery / Continuous Deployment (Kontinuierliche Auslieferung / Bereitstellung)\n",
    "Es gibt zwei Varianten von CD:\n",
    "\n",
    "✅ 1. Continuous Delivery\n",
    "Die Software ist jederzeit bereit zur Auslieferung.\n",
    "Der Code wird automatisch in eine Staging- oder Testumgebung überführt – der letzte Schritt zur Veröffentlichung erfolgt manuell (z. B. per Button-Klick).\n",
    "\n",
    "🤖 2. Continuous Deployment\n",
    "Noch einen Schritt weiter:\n",
    "Nach erfolgreichem Test wird die Software automatisch in die Produktionsumgebung überführt – ohne manuelles Eingreifen.\n",
    "\n",
    "🔧 CI/CD zusammen:\n",
    "In einem modernen DevOps-Prozess sieht es so aus:\n",
    "\n",
    "Entwickler pushed Code (Git)\n",
    "\n",
    "CI startet automatisch (Build & Test)\n",
    "\n",
    "CD übernimmt (Deploy in Test → evtl. Produktion)\n",
    "\n",
    "Feedback kommt zurück (Monitoring, Logs)\n",
    "\n",
    "📈 Vorteile:\n",
    "Schnellere Release-Zyklen\n",
    "\n",
    "Höhere Softwarequalität\n",
    "\n",
    "Automatisierte Tests sparen Zeit\n",
    "\n",
    "Frühes Feedback = weniger Fehler in der Produktion\n",
    "\n"
   ]
  }
 ],
 "metadata": {
  "language_info": {
   "name": "python"
  }
 },
 "nbformat": 4,
 "nbformat_minor": 5
}
