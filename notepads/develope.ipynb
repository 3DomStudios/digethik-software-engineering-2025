{
 "cells": [
  {
   "cell_type": "code",
   "execution_count": 4,
   "id": "837ca23c",
   "metadata": {},
   "outputs": [],
   "source": [
    "import pandas as pd\n",
    "from sklearn.model_selection import train_test_split\n",
    "from sklearn.linear_model import LinearRegression\n",
    "import pickle\n",
    "\n",
    "# Read Data\n",
    "path = 'E:/__WB/Certified AI Engineer nach ISO  IEC 17024/digethik-software-engineering-2025'\n",
    "data = pd.read_csv(f'{path}/data/auto-mpg.csv', sep=';')"
   ]
  },
  {
   "cell_type": "code",
   "execution_count": null,
   "id": "673eecc7",
   "metadata": {},
   "outputs": [],
   "source": [
    "\n",
    "print(data.head)"
   ]
  },
  {
   "cell_type": "code",
   "execution_count": 5,
   "id": "d7f6fb59",
   "metadata": {},
   "outputs": [],
   "source": [
    "# Shuffle Data\n",
    "data = data.sample(frac=1)"
   ]
  },
  {
   "cell_type": "code",
   "execution_count": 6,
   "id": "a433f6d4",
   "metadata": {},
   "outputs": [],
   "source": [
    "y_variable = data['mpg']"
   ]
  },
  {
   "cell_type": "code",
   "execution_count": 7,
   "id": "bfaa2911",
   "metadata": {},
   "outputs": [],
   "source": [
    "# Get all columns that contain attributes\n",
    "x_variables = data.loc[:, data.columns != 'mpg']"
   ]
  },
  {
   "cell_type": "code",
   "execution_count": null,
   "id": "40b092e2",
   "metadata": {},
   "outputs": [],
   "source": [
    "x_train, x_test, y_train, y_test = train_test_split(x_variables, y_variable, test_size=0.2)"
   ]
  },
  {
   "cell_type": "code",
   "execution_count": null,
   "id": "8ad6d8ca",
   "metadata": {},
   "outputs": [],
   "source": [
    "regressor = LinearRegression()\n",
    "regressor = regressor.fit(x_train, y_train)"
   ]
  },
  {
   "cell_type": "code",
   "execution_count": null,
   "id": "5339513d",
   "metadata": {},
   "outputs": [],
   "source": [
    "y_pred = regressor.predict(x_test)"
   ]
  },
  {
   "cell_type": "code",
   "execution_count": null,
   "id": "e14879cf",
   "metadata": {},
   "outputs": [],
   "source": [
    "file_to_write = open(f'{path}/data/models/auto-mpg.pickle', 'wb')\n",
    "pickle.dump(regressor, file_to_write)"
   ]
  }
 ],
 "metadata": {
  "kernelspec": {
   "display_name": ".dsevenv",
   "language": "python",
   "name": "python3"
  },
  "language_info": {
   "codemirror_mode": {
    "name": "ipython",
    "version": 3
   },
   "file_extension": ".py",
   "mimetype": "text/x-python",
   "name": "python",
   "nbconvert_exporter": "python",
   "pygments_lexer": "ipython3",
   "version": "3.10.9"
  }
 },
 "nbformat": 4,
 "nbformat_minor": 5
}
